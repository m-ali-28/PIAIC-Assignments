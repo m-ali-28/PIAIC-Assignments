{
 "cells": [
  {
   "cell_type": "code",
   "execution_count": 21,
   "metadata": {},
   "outputs": [
    {
     "name": "stdout",
     "output_type": "stream",
     "text": [
      "Please enter comma seperated html file name/s: [eg; file1.html,file2.html] \n",
      "example_html_file.html\n",
      "\n",
      " Tags Parsing of file example_html_file.html :\n",
      "\n",
      " Opening tags dictionary : {'html': 1, 'head': 1, 'title': 1, 'style': 1, 'body': 1, 'h1': 1, 'p': 3, 'a': 1}\n",
      "\n",
      " Closing tags dictionary : {'title': 1, 'style': 1, 'head': 1, 'h1': 1, 'p': 3, 'a': 1, 'body': 1, 'html': 1}\n"
     ]
    }
   ],
   "source": [
    "from html.parser import HTMLParser\n",
    "import os\n",
    "import sys\n",
    "\n",
    "dictionarTags ={}\n",
    "dictionaryCloseTags ={}\n",
    "class MyHTMLParser(HTMLParser):\n",
    "    def handle_starttag(self, tag, attrs):\n",
    "        if tag not in dictionarTags:\n",
    "            dictionarTags[tag] = 1\n",
    "        else:\n",
    "            dictionarTags[tag]  +=1    \n",
    "    def display (self):  \n",
    "        print(\"\\n Opening tags dictionary : {}\".format(dictionarTags))\n",
    "        print(\"\\n Closing tags dictionary : {}\".format(dictionaryCloseTags))\n",
    "    def handle_endtag(self, tag):\n",
    "        if tag not in dictionaryCloseTags:\n",
    "            dictionaryCloseTags[tag] = 1\n",
    "        else:\n",
    "            dictionaryCloseTags[tag]  +=1 \n",
    " \n",
    "        \n",
    "fileNames = list(input(\"Please enter comma seperated html file name/s: [eg; file1.html,file2.html] \\n\").split(','))\n",
    "\n",
    "for fileName in fileNames:\n",
    "    if os.path.isfile(fileName) is True:\n",
    "        parser = MyHTMLParser()\n",
    "        f = open(fileName, 'r')\n",
    "        data = f.read()\n",
    "        print(\"\\n Tags Parsing of file {} :\".format(fileName))\n",
    "        parser.feed(data)\n",
    "        parser.display() \n",
    "        dictionarTags ={}\n",
    "    else :\n",
    "        print(fileName, \"Not exists\")"
   ]
  },
  {
   "cell_type": "code",
   "execution_count": 1,
   "metadata": {},
   "outputs": [
    {
     "name": "stdout",
     "output_type": "stream",
     "text": [
      "Please enter comma seperated file name/s: [eg; file1.txt,file2.txt] \n",
      "sample_text_file.txt4,sample_text_file.txt\n",
      "\n",
      " Details of the file sample_text_file.txt4 is given below:\n",
      "\n",
      " Spaces: 54320 \n",
      " Tabs: 34 \n",
      " Lines: 4822 \n",
      " Words: 38128 \n",
      " Non Space Characters: 82830 \n",
      " Paragraph Count: 3\n",
      "\n",
      " Details of the file sample_text_file.txt is given below:\n",
      "\n",
      " Spaces: 54320 \n",
      " Tabs: 34 \n",
      " Lines: 4822 \n",
      " Words: 38128 \n",
      " Non Space Characters: 82830 \n",
      " Paragraph Count: 3\n"
     ]
    }
   ],
   "source": [
    "import os\n",
    "import sys\n",
    "\n",
    "def parse_file(path):\n",
    "\n",
    "    fd = open(path,'r',encoding ='utf8')\n",
    "    spaces = tabs = words = num_lines = Total_chracters = special_chracter = 0\n",
    "    lines_in_file = fd.read()\n",
    "    Total_chracters = len(lines_in_file)\n",
    "    words = len(lines_in_file.split())\n",
    "    num_lines = lines_in_file.count('\\n') +1\n",
    "    tabs = len(lines_in_file.split('\\t')) -1\n",
    "    spaces = len(lines_in_file.split(' ')) -1\n",
    "    special_chracter = Total_chracters - spaces - tabs\n",
    "    paragraphcount=lines_in_file.count('\\n\\t') +1\n",
    "    fd.close()\n",
    "\n",
    "    return spaces , tabs,num_lines,words,special_chracter,paragraphcount\n",
    "\n",
    "\n",
    "fileNames = list(input(\"Please enter comma seperated file name/s: [eg; file1.txt,file2.txt] \\n\").split(','))\n",
    "\n",
    "for fileName in fileNames:\n",
    "    if os.path.isfile(fileName) is True:\n",
    "        \n",
    "        spaces, tabs, lines,words,special_chracter,paragraphcount = parse_file(fileName)\n",
    "        print(\"\\n Details of the file {} is given below:\".format(fileName))\n",
    "        print (\"\\n Spaces: {} \\n Tabs: {} \\n Lines: {} \\n Words: {} \\n Non Space Characters: {} \\n Paragraph Count: {}\".format (spaces, tabs, lines,words,special_chracter,paragraphcount))\n",
    "    else :\n",
    "        print(fileName, \"Not exists\")"
   ]
  },
  {
   "cell_type": "code",
   "execution_count": null,
   "metadata": {},
   "outputs": [],
   "source": []
  }
 ],
 "metadata": {
  "kernelspec": {
   "display_name": "Python 3",
   "language": "python",
   "name": "python3"
  },
  "language_info": {
   "codemirror_mode": {
    "name": "ipython",
    "version": 3
   },
   "file_extension": ".py",
   "mimetype": "text/x-python",
   "name": "python",
   "nbconvert_exporter": "python",
   "pygments_lexer": "ipython3",
   "version": "3.7.3"
  }
 },
 "nbformat": 4,
 "nbformat_minor": 2
}
