{
 "cells": [
  {
   "cell_type": "code",
   "execution_count": 1,
   "metadata": {},
   "outputs": [
    {
     "name": "stdout",
     "output_type": "stream",
     "text": [
      "Input radius of the circle: 0.5\n",
      "Area of the circle with radius  0.5  is  0.7853981633974483\n"
     ]
    }
   ],
   "source": [
    "#Q1.Write a Python program which accepts the radius of a circle from the user and compute the area.\n",
    "\n",
    "import math\n",
    "from math import pi\n",
    "\n",
    "radius=input(\"Input radius of the circle: \")\n",
    "\n",
    "Area_circle=pi*float(radius)**2\n",
    "\n",
    "print(\"Area of the circle with radius \",radius , \" is \", Area_circle)"
   ]
  },
  {
   "cell_type": "code",
   "execution_count": 2,
   "metadata": {},
   "outputs": [
    {
     "name": "stdout",
     "output_type": "stream",
     "text": [
      "Enter a number: -5\n",
      "Negative number Entered\n"
     ]
    }
   ],
   "source": [
    "#Q2.Write a Python program to check if a number is positive, negative or zero.\n",
    "\n",
    "num = float(input(\"Enter a number: \"))\n",
    "if num > 0:\n",
    "   print(\"Positive number Entered\")\n",
    "elif num == 0:\n",
    "   print(\"Zero Entered\")\n",
    "else:\n",
    "   print(\"Negative number Entered\")"
   ]
  },
  {
   "cell_type": "code",
   "execution_count": 3,
   "metadata": {},
   "outputs": [
    {
     "name": "stdout",
     "output_type": "stream",
     "text": [
      "Enter numerator: 35\n",
      "Enter denominator: 8\n",
      "Number  35.0  is not completely divisible by  8.0\n"
     ]
    }
   ],
   "source": [
    "#Q3.Write a Python program to check whether a number is completely divisible by another number. Accept two integer values form the user.\n",
    "\n",
    "m = float(input(\"Enter numerator: \"))\n",
    "n = float(input(\"Enter denominator: \"))\n",
    "if m % n == 0:\n",
    "   print(\"Number \", m ,\" is completely divisible by \", n)\n",
    "else:\n",
    "   print(\"Number \", m ,\" is not completely divisible by \", n)"
   ]
  },
  {
   "cell_type": "code",
   "execution_count": 4,
   "metadata": {},
   "outputs": [
    {
     "name": "stdout",
     "output_type": "stream",
     "text": [
      "Enter a date in (dd/mm/yy) format: 2/5/2018\n",
      "Enter a date in (dd/mm/yy) format: 5/6/2019\n",
      "There are  399 days in between  2/5/2018  and  5/6/2019\n"
     ]
    }
   ],
   "source": [
    "#Q4.Write a Python program to calculate number of days between two dates.\n",
    "\n",
    "from datetime import datetime\n",
    "\n",
    "startDate = input(\"Enter a date in (dd/mm/yy) format: \")\n",
    "endDate = input(\"Enter a date in (dd/mm/yy) format: \")\n",
    "\n",
    "finalstartDate = datetime.strptime(startDate,\"%d/%m/%Y\").date()\n",
    "finalendDate = datetime.strptime(endDate,\"%d/%m/%Y\").date()\n",
    "\n",
    "remainingDays = finalendDate - finalstartDate\n",
    "\n",
    "print (\"There are \", remainingDays.days, \"days in between \", startDate,\" and \",endDate)"
   ]
  },
  {
   "cell_type": "code",
   "execution_count": 5,
   "metadata": {},
   "outputs": [
    {
     "name": "stdout",
     "output_type": "stream",
     "text": [
      "Enter radius of the Sphere: 5\n",
      "The volume of the sphere with radius  5  is  523.5987755982989\n"
     ]
    }
   ],
   "source": [
    "#Q5.Write a Python program to get the volume of a sphere, please take the radius as input from user.\n",
    "\n",
    "import math\n",
    "from math import pi\n",
    "\n",
    "radius=input(\"Enter radius of the Sphere: \")\n",
    "\n",
    "V= 4.0/3.0*pi* float(radius)**3\n",
    "print(\"The volume of the sphere with radius \",radius , \" is \", V)"
   ]
  },
  {
   "cell_type": "code",
   "execution_count": 6,
   "metadata": {},
   "outputs": [
    {
     "name": "stdout",
     "output_type": "stream",
     "text": [
      "Enter String: Hi\n",
      "How many copies of String you need: 4\n",
      "4  Copies of Hi are  HiHiHiHi\n"
     ]
    }
   ],
   "source": [
    "#Q6.Write a Python program to get a string which is n (non-negative integer) copies of a given string.\n",
    "a = str(input(\"Enter String: \"))\n",
    "result = \"\"\n",
    "b = int(input(\"How many copies of String you need: \"))\n",
    "print(b,\" Copies of Hi are \",b*a)"
   ]
  },
  {
   "cell_type": "code",
   "execution_count": 7,
   "metadata": {},
   "outputs": [
    {
     "name": "stdout",
     "output_type": "stream",
     "text": [
      "Enter Number: 6\n",
      "6 is Even\n"
     ]
    }
   ],
   "source": [
    "#Q7.Write a Python program to find whether a given number (accept from the user) is even or odd, print out an appropriate message to the user.\n",
    "\n",
    "num = int(input(\"Enter Number: \"))\n",
    "mod = num % 2\n",
    "if mod > 0:\n",
    "    print(num,\"is Odd\")\n",
    "else:\n",
    "    print(num,\"is Even\")"
   ]
  },
  {
   "cell_type": "code",
   "execution_count": 8,
   "metadata": {},
   "outputs": [
    {
     "name": "stdout",
     "output_type": "stream",
     "text": [
      "Enter a character: i\n",
      "Letter  i  is Vowel\n"
     ]
    }
   ],
   "source": [
    "#Q8.Write a Python program to test whether a passed letter is a vowel or not.\n",
    "\n",
    "vowels = ['A','E','I','O','U','a','e','i','o','u']\n",
    "\n",
    "userInput = input(\"Enter a character: \")\n",
    "\n",
    "if userInput in vowels:\n",
    "    print(\"Letter \",userInput, \" is Vowel\")\n",
    "else:\n",
    "    print(\"Letter \",userInput,\" is not Vowel\")"
   ]
  },
  {
   "cell_type": "code",
   "execution_count": 9,
   "metadata": {},
   "outputs": [
    {
     "name": "stdout",
     "output_type": "stream",
     "text": [
      "Enter Magnitude of Triangle Base: 4\n",
      "Enter Magnitude of Triangle Height: 5\n",
      "Area of a Triangle with Height  5.0  and Base  4.0  is  10.0\n"
     ]
    }
   ],
   "source": [
    "#Q9.Write a Python program that will accept the base and height of a triangle and compute the area.\n",
    "\n",
    "magBase = float(input(\"Enter Magnitude of Triangle Base: \"))\n",
    "magHeight = float(input(\"Enter Magnitude of Triangle Height: \"))\n",
    "area = magBase*magHeight/2\n",
    "print(\"Area of a Triangle with Height \",magHeight, \" and Base \",magBase,\" is \",area)"
   ]
  },
  {
   "cell_type": "code",
   "execution_count": 10,
   "metadata": {},
   "outputs": [
    {
     "name": "stdout",
     "output_type": "stream",
     "text": [
      "Please enter principal amount: 10000\n",
      "Please Enter Rate of interest in %: 0.1\n",
      "Enter number of years for investment: 5\n",
      "After 5.0 years, your principal amount 10000.0 over an interest rate of 0.1 % will be 16105.100000000006\n"
     ]
    }
   ],
   "source": [
    "#Q10.Write a Python program to compute the future value of a specified principal amount, rate of interest, and a number of years.\n",
    "\n",
    "p = float(input(\"Please enter principal amount: \"))\n",
    "r = float(input(\"Please Enter Rate of interest in %: \"))\n",
    "t = float(input(\"Enter number of years for investment: \"))\n",
    "#a = p* (1 + r/100)**2\n",
    "a = p* (pow((1 + r*100 / 100), t))\n",
    "print(\"After\",t,\"years, your principal amount\",p,\"over an interest rate of\",r,\"% will be\",a)"
   ]
  },
  {
   "cell_type": "code",
   "execution_count": 11,
   "metadata": {},
   "outputs": [
    {
     "name": "stdout",
     "output_type": "stream",
     "text": [
      "Enter Co-Ordinate For x1 :2\n",
      "Enter Co-Ordinate For x2 :3\n",
      "Enter Co-Ordinate For y1 :4\n",
      "Enter Co-Ordinate For y2 :6\n",
      "Distance between points ( 2 , 3 ) and ( 4 , 6 ) is 3.605551275463989\n"
     ]
    }
   ],
   "source": [
    "#Q11.Write a Python program to compute the distance between the points (x1, y1) and (x2, y2).\n",
    "\n",
    "import math\n",
    "\n",
    "x1 = int(input(\"Enter Co-Ordinate For x1 :\"))\n",
    "x2 = int(input(\"Enter Co-Ordinate For x2 :\"))\n",
    "y1 = int(input(\"Enter Co-Ordinate For y1 :\"))\n",
    "y2 = int(input(\"Enter Co-Ordinate For y2 :\"))\n",
    "\n",
    "distance = math.sqrt( ((x1-y1)**2)+((x2-y2)**2) )\n",
    "\n",
    "print(\"Distance between points (\",x1,\",\",x2,\") and (\",y1,\",\",y2,\") is\",distance)"
   ]
  },
  {
   "cell_type": "code",
   "execution_count": 12,
   "metadata": {},
   "outputs": [
    {
     "name": "stdout",
     "output_type": "stream",
     "text": [
      "Enter Height in feet: 5\n",
      "There are  152.4  cm in  5.0  ft\n"
     ]
    }
   ],
   "source": [
    "#Q12.Write a Python program to convert height in feet to centimetres.\n",
    "\n",
    "userInput = float(input(\"Enter Height in feet: \"))\n",
    "\n",
    "totalCm = userInput * 30.48\n",
    "\n",
    "print(\"There are \",totalCm , \" cm in \",userInput,\" ft\")"
   ]
  },
  {
   "cell_type": "code",
   "execution_count": 13,
   "metadata": {},
   "outputs": [
    {
     "name": "stdout",
     "output_type": "stream",
     "text": [
      "Enter Your Height in Cm: 180\n",
      "Enter Your Weight in kg: 75\n",
      "Your BMI is 23.148148148148145\n"
     ]
    }
   ],
   "source": [
    "#Q13.Write a Python program to calculate body mass index.\n",
    "\n",
    "userHeight = float(input(\"Enter Your Height in Cm: \"))\n",
    "userWeight = float(input(\"Enter Your Weight in kg: \"))\n",
    "\n",
    "heightInMeters = userHeight * 0.01\n",
    "\n",
    "totalBmi = userWeight / (heightInMeters * heightInMeters)\n",
    "\n",
    "print(\"Your BMI is\",totalBmi)"
   ]
  },
  {
   "cell_type": "code",
   "execution_count": 14,
   "metadata": {},
   "outputs": [
    {
     "name": "stdout",
     "output_type": "stream",
     "text": [
      "Enter Number Of n: 5\n",
      "15\n"
     ]
    }
   ],
   "source": [
    "#Q14.Write a python program to sum of the first n positive integers.\n",
    "\n",
    "sumNumber = 0\n",
    "\n",
    "userNumber =int(input(\"Enter Number Of n: \"))\n",
    "if userNumber >=0:\n",
    "    total = int(userNumber * (userNumber + 1)/2)\n",
    "    print(total)\n",
    "else:\n",
    "    print(userNumber,\" is not positive Number\")"
   ]
  },
  {
   "cell_type": "code",
   "execution_count": 15,
   "metadata": {},
   "outputs": [
    {
     "name": "stdout",
     "output_type": "stream",
     "text": [
      "Enter a Number15\n",
      "1 + 5\n",
      "Sum Of  1 + 5  is  6\n"
     ]
    }
   ],
   "source": [
    "#Q15.Write a Python program to calculate the sum of the digits in an integer.\n",
    "\n",
    "number =int(input(\"Enter a Number\"))\n",
    "\n",
    "sumnum = str(number)\n",
    "\n",
    "lst = list(sumnum)\n",
    "\n",
    "\n",
    "totalDigits = ' + '.join(sumnum)\n",
    "\n",
    "print(totalDigits)\n",
    "\n",
    "total = 0\n",
    "while number>0:\n",
    "    digit = number%10\n",
    "    total = total+digit\n",
    "    number = number//10\n",
    "print(\"Sum Of \", totalDigits, \" is \", total)"
   ]
  },
  {
   "cell_type": "code",
   "execution_count": 16,
   "metadata": {},
   "outputs": [
    {
     "name": "stdout",
     "output_type": "stream",
     "text": [
      "Enter a decimal number 5\n",
      "Binary Representation of  5  is  101 "
     ]
    }
   ],
   "source": [
    "#Q16.Write a Python program to convert an decimal integer to binary.\n",
    "\n",
    "decimalNumber = int(input(\"Enter a decimal number \"))\n",
    "finalDecimalNumber = decimalNumber\n",
    "\n",
    "# to store binary numbers in list\n",
    "array=[]\n",
    "\n",
    "while(decimalNumber>0):\n",
    "    digit=decimalNumber%2\n",
    "    array.append(digit)\n",
    "    decimalNumber=decimalNumber//2\n",
    "    \n",
    "    # Converting integer list to string list\n",
    "    s = [str(i) for i in array] \n",
    "      \n",
    "    # Join list items using join() \n",
    "    res = int(\"\".join(s))     \n",
    "array.reverse()\n",
    "\n",
    "print(\"Binary Representation of \", finalDecimalNumber,\" is \",res,end=\" \")"
   ]
  },
  {
   "cell_type": "code",
   "execution_count": 17,
   "metadata": {},
   "outputs": [
    {
     "name": "stdout",
     "output_type": "stream",
     "text": [
      "Enter a Binary number 1001\n",
      "Decimal Representation of  1001  is  9\n"
     ]
    }
   ],
   "source": [
    "#Q17.Write a program to convert binary number to Decimal number.\n",
    "\n",
    "binaryNumber = input(\"Enter a Binary number \")\n",
    "binaryNumberList = list(binaryNumber)\n",
    "defaultValue = 0\n",
    "actualNumber = str(binaryNumber)\n",
    "\n",
    "\n",
    "\n",
    "for d in range(len(binaryNumberList)):\n",
    "    numbers = binaryNumberList.pop()\n",
    "    if numbers == '1':\n",
    "        defaultValue = defaultValue + pow(2, d)\n",
    "print(\"Decimal Representation of \", actualNumber,\" is \" ,defaultValue)"
   ]
  },
  {
   "cell_type": "code",
   "execution_count": 18,
   "metadata": {},
   "outputs": [
    {
     "name": "stdout",
     "output_type": "stream",
     "text": [
      "Enter Text QuickBrownFoxJumpsovertheDog\n",
      "Vowels :  9\n",
      "Consonants :  19\n"
     ]
    }
   ],
   "source": [
    "#Q18. Input a text and count the occurrences of vowels and consonant. \n",
    "\n",
    "userInput = input(\"Enter Text \")\n",
    "vowels = 0\n",
    "consonants = 0\n",
    "for i in userInput:\n",
    "    if(i == 'a' or i == 'e' or i == 'i' or i == 'o' or i == 'u'\n",
    "       or i == 'A' or i == 'E' or i == 'I' or i == 'O' or i == 'U'):\n",
    "        vowels = vowels + 1\n",
    "    else:\n",
    "        consonants = consonants + 1\n",
    "\n",
    "print(\"Vowels : \",vowels)\n",
    "print(\"Consonants : \",consonants)"
   ]
  },
  {
   "cell_type": "code",
   "execution_count": 19,
   "metadata": {},
   "outputs": [
    {
     "name": "stdout",
     "output_type": "stream",
     "text": [
      "Enter Text :AHA\n",
      "Text  AHA  is Palindrome\n"
     ]
    }
   ],
   "source": [
    "#Q19.Write a program to check whether given input is palindrome or not.\n",
    "\n",
    "userInput = input(\"Enter Text :\")\n",
    "palindrome = userInput[::-1]\n",
    "if userInput == palindrome:\n",
    "    print(\"Text \" , userInput,\" is Palindrome\")\n",
    "else:\n",
    "    print(\"Text \" , userInput,\" is not Palindrome\")"
   ]
  },
  {
   "cell_type": "code",
   "execution_count": 20,
   "metadata": {},
   "outputs": [
    {
     "name": "stdout",
     "output_type": "stream",
     "text": [
      "Please Enter your Own String : Python 3.2\n",
      "\n",
      "Total Number of Alphabets in this String :   6\n",
      "Total Number of Digits in this String :   2\n",
      "Total Number of Special Characters in this String :   1\n",
      "Total Number of Spaces in this String :   1\n"
     ]
    }
   ],
   "source": [
    "#Q20.Write a Python program that accepts a string and calculate the number of digits and letters. \n",
    "\n",
    "userInput = input(\"Please Enter your Own String : \")\n",
    "alphabets = digits = special = 0\n",
    "spaces = userInput.count(' ')\n",
    "for i in range(len(userInput)):\n",
    "    if(userInput[i].isalpha()):\n",
    "        alphabets = alphabets + 1\n",
    "    elif(userInput[i].isdigit()):\n",
    "        digits = digits + 1\n",
    "    else:\n",
    "        special = special + 1\n",
    "\n",
    "specialCharacter = special - spaces\n",
    "print(\"\\nTotal Number of Alphabets in this String :  \", alphabets)\n",
    "print(\"Total Number of Digits in this String :  \", digits)\n",
    "print(\"Total Number of Special Characters in this String :  \", specialCharacter) \n",
    "print(\"Total Number of Spaces in this String :  \", spaces)"
   ]
  },
  {
   "cell_type": "code",
   "execution_count": 21,
   "metadata": {},
   "outputs": [
    {
     "name": "stdout",
     "output_type": "stream",
     "text": [
      "\n",
      "* \n",
      "* * \n",
      "* * * \n",
      "* * * * \n",
      "* * * * * \n",
      "* * * * \n",
      "* * * \n",
      "* * \n",
      "* \n"
     ]
    }
   ],
   "source": [
    "#Q21. Pattern 1\n",
    "\n",
    "number=5;\n",
    "for i in range(number):\n",
    "    for j in range(i):\n",
    "        print ('* ', end=\"\")\n",
    "        \n",
    "    print('')\n",
    "\n",
    "for i in range(number,0,-1):\n",
    "    for j in range(i):\n",
    "        print('* ', end=\"\")\n",
    "    print('')"
   ]
  },
  {
   "cell_type": "code",
   "execution_count": 22,
   "metadata": {},
   "outputs": [
    {
     "name": "stdout",
     "output_type": "stream",
     "text": [
      "\n",
      "1\n",
      "12\n",
      "123\n",
      "1234\n",
      "12345\n",
      "1234\n",
      "123\n",
      "12\n",
      "1\n"
     ]
    }
   ],
   "source": [
    "#Q22.  Pattern 2 \n",
    "\n",
    "number=5\n",
    "random = 1\n",
    "for i in range(number):\n",
    "    for j in range(i):\n",
    "        print (j+1, end=\"\")\n",
    "    \n",
    "    print('')\n",
    "\n",
    "for i in range(5,0,-1):\n",
    "    for j in range(i):\n",
    "        print(j+1, end=\"\")\n",
    "    print('')"
   ]
  },
  {
   "cell_type": "code",
   "execution_count": 23,
   "metadata": {},
   "outputs": [
    {
     "name": "stdout",
     "output_type": "stream",
     "text": [
      "\n",
      "1\n",
      "22\n",
      "333\n",
      "4444\n",
      "55555\n",
      "666666\n",
      "7777777\n",
      "88888888\n",
      "999999999\n"
     ]
    }
   ],
   "source": [
    "#Q23. Pattern 3\n",
    "\n",
    "for i in range(10):\n",
    "    print(str(i) * i)"
   ]
  },
  {
   "cell_type": "code",
   "execution_count": null,
   "metadata": {},
   "outputs": [],
   "source": []
  }
 ],
 "metadata": {
  "kernelspec": {
   "display_name": "Python 3",
   "language": "python",
   "name": "python3"
  },
  "language_info": {
   "codemirror_mode": {
    "name": "ipython",
    "version": 3
   },
   "file_extension": ".py",
   "mimetype": "text/x-python",
   "name": "python",
   "nbconvert_exporter": "python",
   "pygments_lexer": "ipython3",
   "version": "3.7.3"
  }
 },
 "nbformat": 4,
 "nbformat_minor": 2
}
